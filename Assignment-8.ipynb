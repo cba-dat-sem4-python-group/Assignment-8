{
 "cells": [
  {
   "cell_type": "markdown",
   "metadata": {},
   "source": [
    "# Assignment 8\n",
    "\n",
    "\n",
    "https://think.cs.vt.edu/corgis/csv/cars/cars.html\n",
    "\n",
    "### Download the data\n",
    "\n",
    "- Programatically download the data from the above link.\n",
    "- Import the data into a Pandas dataframe.\n",
    "- Show the head of the Pandas dataframe.\n",
    "\n",
    "### Linear regression\n",
    "\n",
    "- Perform linear regression on the downloaded dataset, where `y=Highway mpg` and `x=Horsepower`.\n",
    "- What is the coefficient (slope) of your model? What does this number mean?\n",
    "- According to your model, what is `y` when `x=2000`.\n",
    "- Show the regression line on a scatterplot with the other datapoints.\n",
    "\n",
    "### Classification\n",
    "\n",
    "- Using `sklearn` create a classifier that can predict the make of a car, based on provided features. The following features should be included:\n",
    "  - `City mpg`\n",
    "  - `Highway mpg`\n",
    "  - `Height`\n",
    "  - `Width`\n",
    "  - `Length`\n",
    "  - `Horsepower`\n",
    "  - `Year`\n",
    "- Show the decisiontree of your model.\n",
    "- Use your model to predict the make of a car.\n",
    "\n",
    "## Review questions \n",
    "\n",
    "1. Did the student programatically download and import the data?\n",
    "2. Did the student correctly display the regression line in a graph`?\n",
    "3. Did the student find the coefficient of the line, and reflect on its meaning?\n",
    "4. Did the student correctly provide their classification model with imported data?\n",
    "---"
   ]
  },
  {
   "cell_type": "code",
   "execution_count": 83,
   "metadata": {},
   "outputs": [],
   "source": [
    "import urllib.request as req\n",
    "import matplotlib.pyplot as plt\n",
    "from pprint import pprint as pp\n",
    "import pandas as pd\n",
    "import sklearn.linear_model as lm\n",
    "import numpy as np\n",
    "from sklearn.tree import DecisionTreeClassifier as dtc\n",
    "from graphviz import Source\n",
    "from sklearn.tree import export_graphviz\n",
    "from IPython.display import SVG, display"
   ]
  },
  {
   "cell_type": "markdown",
   "metadata": {},
   "source": [
    "## Part 1, Download the data"
   ]
  },
  {
   "cell_type": "code",
   "execution_count": 27,
   "metadata": {},
   "outputs": [],
   "source": [
    "url = 'https://think.cs.vt.edu/corgis/csv/cars/cars.csv?forcedownload=1'\n",
    "\n",
    "def download(url, to=None):\n",
    "    data = req.urlretrieve(url, to)\n",
    "    return data[0]\n",
    "    \n",
    "file_name = download(url, 'data.csv')"
   ]
  },
  {
   "cell_type": "code",
   "execution_count": 32,
   "metadata": {},
   "outputs": [
    {
     "data": {
      "text/html": [
       "<div>\n",
       "<style scoped>\n",
       "    .dataframe tbody tr th:only-of-type {\n",
       "        vertical-align: middle;\n",
       "    }\n",
       "\n",
       "    .dataframe tbody tr th {\n",
       "        vertical-align: top;\n",
       "    }\n",
       "\n",
       "    .dataframe thead th {\n",
       "        text-align: right;\n",
       "    }\n",
       "</style>\n",
       "<table border=\"1\" class=\"dataframe\">\n",
       "  <thead>\n",
       "    <tr style=\"text-align: right;\">\n",
       "      <th></th>\n",
       "      <th>City mpg</th>\n",
       "      <th>Classification</th>\n",
       "      <th>Driveline</th>\n",
       "      <th>Engine Type</th>\n",
       "      <th>Fuel Type</th>\n",
       "      <th>Height</th>\n",
       "      <th>Highway mpg</th>\n",
       "      <th>Horsepower</th>\n",
       "      <th>Hybrid</th>\n",
       "      <th>ID</th>\n",
       "      <th>Length</th>\n",
       "      <th>Make</th>\n",
       "      <th>Model Year</th>\n",
       "      <th>Number of Forward Gears</th>\n",
       "      <th>Torque</th>\n",
       "      <th>Transmission</th>\n",
       "      <th>Width</th>\n",
       "      <th>Year</th>\n",
       "    </tr>\n",
       "  </thead>\n",
       "  <tbody>\n",
       "    <tr>\n",
       "      <th>0</th>\n",
       "      <td>18</td>\n",
       "      <td>Automatic transmission</td>\n",
       "      <td>All-wheel drive</td>\n",
       "      <td>Audi 3.2L 6 cylinder 250hp 236ft-lbs</td>\n",
       "      <td>Gasoline</td>\n",
       "      <td>140</td>\n",
       "      <td>25</td>\n",
       "      <td>250</td>\n",
       "      <td>False</td>\n",
       "      <td>2009 Audi A3 3.2</td>\n",
       "      <td>143</td>\n",
       "      <td>Audi</td>\n",
       "      <td>2009 Audi A3</td>\n",
       "      <td>6</td>\n",
       "      <td>236</td>\n",
       "      <td>6 Speed Automatic Select Shift</td>\n",
       "      <td>202</td>\n",
       "      <td>2009</td>\n",
       "    </tr>\n",
       "    <tr>\n",
       "      <th>1</th>\n",
       "      <td>22</td>\n",
       "      <td>Automatic transmission</td>\n",
       "      <td>Front-wheel drive</td>\n",
       "      <td>Audi 2.0L 4 cylinder 200 hp 207 ft-lbs Turbo</td>\n",
       "      <td>Gasoline</td>\n",
       "      <td>140</td>\n",
       "      <td>28</td>\n",
       "      <td>200</td>\n",
       "      <td>False</td>\n",
       "      <td>2009 Audi A3 2.0 T AT</td>\n",
       "      <td>143</td>\n",
       "      <td>Audi</td>\n",
       "      <td>2009 Audi A3</td>\n",
       "      <td>6</td>\n",
       "      <td>207</td>\n",
       "      <td>6 Speed Automatic Select Shift</td>\n",
       "      <td>202</td>\n",
       "      <td>2009</td>\n",
       "    </tr>\n",
       "    <tr>\n",
       "      <th>2</th>\n",
       "      <td>21</td>\n",
       "      <td>Manual transmission</td>\n",
       "      <td>Front-wheel drive</td>\n",
       "      <td>Audi 2.0L 4 cylinder 200 hp 207 ft-lbs Turbo</td>\n",
       "      <td>Gasoline</td>\n",
       "      <td>140</td>\n",
       "      <td>30</td>\n",
       "      <td>200</td>\n",
       "      <td>False</td>\n",
       "      <td>2009 Audi A3 2.0 T</td>\n",
       "      <td>143</td>\n",
       "      <td>Audi</td>\n",
       "      <td>2009 Audi A3</td>\n",
       "      <td>6</td>\n",
       "      <td>207</td>\n",
       "      <td>6 Speed Manual</td>\n",
       "      <td>202</td>\n",
       "      <td>2009</td>\n",
       "    </tr>\n",
       "    <tr>\n",
       "      <th>3</th>\n",
       "      <td>21</td>\n",
       "      <td>Automatic transmission</td>\n",
       "      <td>All-wheel drive</td>\n",
       "      <td>Audi 2.0L 4 cylinder 200 hp 207 ft-lbs Turbo</td>\n",
       "      <td>Gasoline</td>\n",
       "      <td>140</td>\n",
       "      <td>28</td>\n",
       "      <td>200</td>\n",
       "      <td>False</td>\n",
       "      <td>2009 Audi A3 2.0 T Quattro</td>\n",
       "      <td>143</td>\n",
       "      <td>Audi</td>\n",
       "      <td>2009 Audi A3</td>\n",
       "      <td>6</td>\n",
       "      <td>207</td>\n",
       "      <td>6 Speed Automatic Select Shift</td>\n",
       "      <td>202</td>\n",
       "      <td>2009</td>\n",
       "    </tr>\n",
       "    <tr>\n",
       "      <th>4</th>\n",
       "      <td>21</td>\n",
       "      <td>Automatic transmission</td>\n",
       "      <td>All-wheel drive</td>\n",
       "      <td>Audi 2.0L 4 cylinder 200 hp 207 ft-lbs Turbo</td>\n",
       "      <td>Gasoline</td>\n",
       "      <td>140</td>\n",
       "      <td>28</td>\n",
       "      <td>200</td>\n",
       "      <td>False</td>\n",
       "      <td>2009 Audi A3 2.0 T Quattro</td>\n",
       "      <td>143</td>\n",
       "      <td>Audi</td>\n",
       "      <td>2009 Audi A3</td>\n",
       "      <td>6</td>\n",
       "      <td>207</td>\n",
       "      <td>6 Speed Automatic Select Shift</td>\n",
       "      <td>202</td>\n",
       "      <td>2009</td>\n",
       "    </tr>\n",
       "  </tbody>\n",
       "</table>\n",
       "</div>"
      ],
      "text/plain": [
       "   City mpg          Classification          Driveline  \\\n",
       "0        18  Automatic transmission    All-wheel drive   \n",
       "1        22  Automatic transmission  Front-wheel drive   \n",
       "2        21     Manual transmission  Front-wheel drive   \n",
       "3        21  Automatic transmission    All-wheel drive   \n",
       "4        21  Automatic transmission    All-wheel drive   \n",
       "\n",
       "                                    Engine Type Fuel Type  Height  \\\n",
       "0          Audi 3.2L 6 cylinder 250hp 236ft-lbs  Gasoline     140   \n",
       "1  Audi 2.0L 4 cylinder 200 hp 207 ft-lbs Turbo  Gasoline     140   \n",
       "2  Audi 2.0L 4 cylinder 200 hp 207 ft-lbs Turbo  Gasoline     140   \n",
       "3  Audi 2.0L 4 cylinder 200 hp 207 ft-lbs Turbo  Gasoline     140   \n",
       "4  Audi 2.0L 4 cylinder 200 hp 207 ft-lbs Turbo  Gasoline     140   \n",
       "\n",
       "   Highway mpg  Horsepower  Hybrid                          ID  Length  Make  \\\n",
       "0           25         250   False            2009 Audi A3 3.2     143  Audi   \n",
       "1           28         200   False       2009 Audi A3 2.0 T AT     143  Audi   \n",
       "2           30         200   False          2009 Audi A3 2.0 T     143  Audi   \n",
       "3           28         200   False  2009 Audi A3 2.0 T Quattro     143  Audi   \n",
       "4           28         200   False  2009 Audi A3 2.0 T Quattro     143  Audi   \n",
       "\n",
       "     Model Year  Number of Forward Gears  Torque  \\\n",
       "0  2009 Audi A3                        6     236   \n",
       "1  2009 Audi A3                        6     207   \n",
       "2  2009 Audi A3                        6     207   \n",
       "3  2009 Audi A3                        6     207   \n",
       "4  2009 Audi A3                        6     207   \n",
       "\n",
       "                     Transmission  Width  Year  \n",
       "0  6 Speed Automatic Select Shift    202  2009  \n",
       "1  6 Speed Automatic Select Shift    202  2009  \n",
       "2                  6 Speed Manual    202  2009  \n",
       "3  6 Speed Automatic Select Shift    202  2009  \n",
       "4  6 Speed Automatic Select Shift    202  2009  "
      ]
     },
     "execution_count": 32,
     "metadata": {},
     "output_type": "execute_result"
    }
   ],
   "source": [
    "df = pd.read_csv(file_name)\n",
    "df.head()"
   ]
  },
  {
   "cell_type": "markdown",
   "metadata": {},
   "source": [
    "## Part 2, Linear regression"
   ]
  },
  {
   "cell_type": "code",
   "execution_count": 34,
   "metadata": {},
   "outputs": [
    {
     "name": "stdout",
     "output_type": "stream",
     "text": [
      "0       250\n",
      "1       200\n",
      "2       200\n",
      "3       200\n",
      "4       200\n",
      "5       265\n",
      "6       265\n",
      "7       350\n",
      "8       280\n",
      "9       211\n",
      "10      211\n",
      "11      265\n",
      "12      280\n",
      "13      305\n",
      "14      555\n",
      "15      555\n",
      "16      555\n",
      "17      555\n",
      "18      185\n",
      "19      185\n",
      "20      185\n",
      "21      185\n",
      "22      185\n",
      "23      185\n",
      "24      185\n",
      "25      185\n",
      "26      185\n",
      "27      310\n",
      "28      310\n",
      "29      310\n",
      "       ... \n",
      "5046    274\n",
      "5047    305\n",
      "5048    305\n",
      "5049    268\n",
      "5050    355\n",
      "5051    505\n",
      "5052    310\n",
      "5053    310\n",
      "5054    310\n",
      "5055    310\n",
      "5056    122\n",
      "5057    122\n",
      "5058    117\n",
      "5059    117\n",
      "5060    117\n",
      "5061    117\n",
      "5062    248\n",
      "5063    248\n",
      "5064    248\n",
      "5065    248\n",
      "5066    248\n",
      "5067    250\n",
      "5068    250\n",
      "5069    250\n",
      "5070    250\n",
      "5071    250\n",
      "5072    552\n",
      "5073    552\n",
      "5074    315\n",
      "5075    315\n",
      "Name: Horsepower, Length: 5076, dtype: int64\n",
      "0       25\n",
      "1       28\n",
      "2       30\n",
      "3       28\n",
      "4       28\n",
      "5       27\n",
      "6       26\n",
      "7       18\n",
      "8       20\n",
      "9       30\n",
      "10      27\n",
      "11      26\n",
      "12      29\n",
      "13      26\n",
      "14      17\n",
      "15      17\n",
      "16      17\n",
      "17      17\n",
      "18      25\n",
      "19      25\n",
      "20      25\n",
      "21      25\n",
      "22      25\n",
      "23      25\n",
      "24      25\n",
      "25      26\n",
      "26      25\n",
      "27      18\n",
      "28      12\n",
      "29      17\n",
      "        ..\n",
      "5046    23\n",
      "5047    26\n",
      "5048    23\n",
      "5049    24\n",
      "5050    22\n",
      "5051    18\n",
      "5052    14\n",
      "5053    18\n",
      "5054    14\n",
      "5055    13\n",
      "5056    37\n",
      "5057    37\n",
      "5058    33\n",
      "5059    33\n",
      "5060    35\n",
      "5061    33\n",
      "5062    27\n",
      "5063    27\n",
      "5064    28\n",
      "5065    27\n",
      "5066    28\n",
      "5067    25\n",
      "5068    24\n",
      "5069    25\n",
      "5070    24\n",
      "5071    25\n",
      "5072    20\n",
      "5073    20\n",
      "5074    25\n",
      "5075    25\n",
      "Name: Highway mpg, Length: 5076, dtype: int64\n"
     ]
    }
   ],
   "source": [
    "x = df.loc[:,'Horsepower']\n",
    "y = df.loc[:,'Highway mpg']\n",
    "\n",
    "print(x)\n",
    "print(y)"
   ]
  },
  {
   "cell_type": "code",
   "execution_count": 39,
   "metadata": {},
   "outputs": [
    {
     "data": {
      "text/plain": [
       "<matplotlib.collections.PathCollection at 0x11a3c6240>"
      ]
     },
     "execution_count": 39,
     "metadata": {},
     "output_type": "execute_result"
    },
    {
     "data": {
      "image/png": "[encoded data removed]",
      "text/plain": [
       "<Figure size 432x288 with 1 Axes>"
      ]
     },
     "metadata": {
      "needs_background": "light"
     },
     "output_type": "display_data"
    }
   ],
   "source": [
    "plt.scatter(x, y, s=0.5)"
   ]
  },
  {
   "cell_type": "code",
   "execution_count": 47,
   "metadata": {},
   "outputs": [],
   "source": [
    "x_reshape = np.array(x).reshape(-1, 1)\n",
    "\n",
    "model = lm.LinearRegression()\n",
    "model.fit(x_reshape, y)\n",
    "\n",
    "alpha = model.coef_\n",
    "beta = model.intercept_\n"
   ]
  },
  {
   "cell_type": "markdown",
   "metadata": {},
   "source": [
    "### What is the coefficient (slope) of your model? What does this number mean?"
   ]
  },
  {
   "cell_type": "code",
   "execution_count": 55,
   "metadata": {},
   "outputs": [
    {
     "name": "stdout",
     "output_type": "stream",
     "text": [
      "coefficient: -0.03732550445990135\n"
     ]
    }
   ],
   "source": [
    "print('coefficient:', alpha[0])"
   ]
  },
  {
   "cell_type": "markdown",
   "metadata": {},
   "source": [
    "This number means that when x increases by one y increases by the coefficient"
   ]
  },
  {
   "cell_type": "markdown",
   "metadata": {},
   "source": [
    "### According to your model, what is y when x=2000."
   ]
  },
  {
   "cell_type": "code",
   "execution_count": 62,
   "metadata": {},
   "outputs": [
    {
     "name": "stdout",
     "output_type": "stream",
     "text": [
      "y at x = 2000: -40.4289895095998\n"
     ]
    }
   ],
   "source": [
    "print('y at x = 2000:', model.predict([[2000]])[0])"
   ]
  },
  {
   "cell_type": "markdown",
   "metadata": {},
   "source": [
    "### Show the regression line on a scatterplot with the other datapoints."
   ]
  },
  {
   "cell_type": "code",
   "execution_count": 64,
   "metadata": {},
   "outputs": [
    {
     "data": {
      "text/plain": [
       "[<matplotlib.lines.Line2D at 0x1a1d23a080>]"
      ]
     },
     "execution_count": 64,
     "metadata": {},
     "output_type": "execute_result"
    },
    {
     "data": {
      "image/png": "[encoded data removed]",
      "text/plain": [
       "<Figure size 432x288 with 1 Axes>"
      ]
     },
     "metadata": {
      "needs_background": "light"
     },
     "output_type": "display_data"
    }
   ],
   "source": [
    "plt.scatter(x, y, s=0.5)\n",
    "plt.plot([0, 650],[model.predict([[0]]), model.predict([[650]])])"
   ]
  },
  {
   "cell_type": "markdown",
   "metadata": {},
   "source": [
    "## Part 3, Classification"
   ]
  },
  {
   "cell_type": "markdown",
   "metadata": {},
   "source": [
    "### Using `sklearn` create a classifier that can predict the make of a car, based on provided features. The following features should be included:\n",
    "  - `City mpg`\n",
    "  - `Highway mpg`\n",
    "  - `Height`\n",
    "  - `Width`\n",
    "  - `Length`\n",
    "  - `Horsepower`\n",
    "  - `Year`"
   ]
  },
  {
   "cell_type": "code",
   "execution_count": 129,
   "metadata": {},
   "outputs": [
    {
     "data": {
      "text/plain": [
       "DecisionTreeClassifier(class_weight=None, criterion='gini', max_depth=None,\n",
       "            max_features=None, max_leaf_nodes=4, min_impurity_decrease=0.0,\n",
       "            min_impurity_split=None, min_samples_leaf=1,\n",
       "            min_samples_split=2, min_weight_fraction_leaf=0.0,\n",
       "            presort=False, random_state=0, splitter='best')"
      ]
     },
     "execution_count": 129,
     "metadata": {},
     "output_type": "execute_result"
    }
   ],
   "source": [
    "features = ['City mpg', 'Highway mpg', 'Height', 'Width', 'Length', 'Horsepower', 'Year']\n",
    "\n",
    "model = dtc(max_leaf_nodes=4, random_state=0)\n",
    "model.fit(df[features], df['Make'])"
   ]
  },
  {
   "cell_type": "markdown",
   "metadata": {},
   "source": [
    "### Show the decisiontree of your model."
   ]
  },
  {
   "cell_type": "code",
   "execution_count": 130,
   "metadata": {},
   "outputs": [
    {
     "data": {
      "image/svg+xml": [
       "<svg height=\"583pt\" viewBox=\"0.00 0.00 763.50 583.00\" width=\"764pt\" xmlns=\"http://www.w3.org/2000/svg\" xmlns:xlink=\"http://www.w3.org/1999/xlink\">\n",
       "<g class=\"graph\" id=\"graph0\" transform=\"scale(1 1) rotate(0) translate(4 579)\">\n",
       "<title>Tree</title>\n",
       "<polygon fill=\"#ffffff\" points=\"-4,4 -4,-579 759.5,-579 759.5,4 -4,4\" stroke=\"transparent\"/>\n",
       "<!-- 0 -->\n",
       "<g class=\"node\" id=\"node1\">\n",
       "<title>0</title>\n",
       "<polygon fill=\"none\" points=\"622.5,-575 297.5,-575 297.5,-447 622.5,-447 622.5,-575\" stroke=\"#000000\"/>\n",
       "<text fill=\"#000000\" font-family=\"Times,serif\" font-size=\"14.00\" text-anchor=\"middle\" x=\"460\" y=\"-559.8\">Length &lt;= 252.0</text>\n",
       "<text fill=\"#000000\" font-family=\"Times,serif\" font-size=\"14.00\" text-anchor=\"middle\" x=\"460\" y=\"-544.8\">gini = 0.944</text>\n",
       "<text fill=\"#000000\" font-family=\"Times,serif\" font-size=\"14.00\" text-anchor=\"middle\" x=\"460\" y=\"-529.8\">samples = 5076</text>\n",
       "<text fill=\"#000000\" font-family=\"Times,serif\" font-size=\"14.00\" text-anchor=\"middle\" x=\"460\" y=\"-514.8\">value = [10, 33, 43, 87, 133, 58, 18, 71, 200, 626, 30, 6</text>\n",
       "<text fill=\"#000000\" font-family=\"Times,serif\" font-size=\"14.00\" text-anchor=\"middle\" x=\"460\" y=\"-499.8\">260, 1, 603, 368, 48, 200, 188, 85, 44, 119, 135</text>\n",
       "<text fill=\"#000000\" font-family=\"Times,serif\" font-size=\"14.00\" text-anchor=\"middle\" x=\"460\" y=\"-484.8\">5, 35, 52, 43, 11, 62, 12, 13, 168, 64, 6, 7</text>\n",
       "<text fill=\"#000000\" font-family=\"Times,serif\" font-size=\"14.00\" text-anchor=\"middle\" x=\"460\" y=\"-469.8\">28, 51, 294, 51, 10, 59, 26, 105, 51, 325, 129</text>\n",
       "<text fill=\"#000000\" font-family=\"Times,serif\" font-size=\"14.00\" text-anchor=\"middle\" x=\"460\" y=\"-454.8\">103]</text>\n",
       "</g>\n",
       "<!-- 1 -->\n",
       "<g class=\"node\" id=\"node2\">\n",
       "<title>1</title>\n",
       "<polygon fill=\"none\" points=\"468.5,-411 143.5,-411 143.5,-283 468.5,-283 468.5,-411\" stroke=\"#000000\"/>\n",
       "<text fill=\"#000000\" font-family=\"Times,serif\" font-size=\"14.00\" text-anchor=\"middle\" x=\"306\" y=\"-395.8\">Horsepower &lt;= 278.0</text>\n",
       "<text fill=\"#000000\" font-family=\"Times,serif\" font-size=\"14.00\" text-anchor=\"middle\" x=\"306\" y=\"-380.8\">gini = 0.946</text>\n",
       "<text fill=\"#000000\" font-family=\"Times,serif\" font-size=\"14.00\" text-anchor=\"middle\" x=\"306\" y=\"-365.8\">samples = 4954</text>\n",
       "<text fill=\"#000000\" font-family=\"Times,serif\" font-size=\"14.00\" text-anchor=\"middle\" x=\"306\" y=\"-350.8\">value = [10, 33, 43, 87, 133, 58, 18, 71, 200, 626, 30, 6</text>\n",
       "<text fill=\"#000000\" font-family=\"Times,serif\" font-size=\"14.00\" text-anchor=\"middle\" x=\"306\" y=\"-335.8\">260, 1, 493, 368, 48, 195, 188, 85, 44, 119, 128</text>\n",
       "<text fill=\"#000000\" font-family=\"Times,serif\" font-size=\"14.00\" text-anchor=\"middle\" x=\"306\" y=\"-320.8\">5, 35, 52, 43, 11, 62, 12, 13, 168, 64, 6, 7</text>\n",
       "<text fill=\"#000000\" font-family=\"Times,serif\" font-size=\"14.00\" text-anchor=\"middle\" x=\"306\" y=\"-305.8\">28, 51, 294, 51, 10, 59, 26, 105, 51, 325, 129</text>\n",
       "<text fill=\"#000000\" font-family=\"Times,serif\" font-size=\"14.00\" text-anchor=\"middle\" x=\"306\" y=\"-290.8\">103]</text>\n",
       "</g>\n",
       "<!-- 0&#45;&gt;1 -->\n",
       "<g class=\"edge\" id=\"edge1\">\n",
       "<title>0-&gt;1</title>\n",
       "<path d=\"M399.5771,-446.6536C390.9333,-437.4485 381.9969,-427.9318 373.2322,-418.5979\" fill=\"none\" stroke=\"#000000\"/>\n",
       "<polygon fill=\"#000000\" points=\"375.6454,-416.0549 366.2486,-411.1609 370.5425,-420.8466 375.6454,-416.0549\" stroke=\"#000000\"/>\n",
       "<text fill=\"#000000\" font-family=\"Times,serif\" font-size=\"14.00\" text-anchor=\"middle\" x=\"365.4629\" y=\"-432.4485\">True</text>\n",
       "</g>\n",
       "<!-- 2 -->\n",
       "<g class=\"node\" id=\"node7\">\n",
       "<title>2</title>\n",
       "<polygon fill=\"none\" points=\"741.5,-396 486.5,-396 486.5,-298 741.5,-298 741.5,-396\" stroke=\"#000000\"/>\n",
       "<text fill=\"#000000\" font-family=\"Times,serif\" font-size=\"14.00\" text-anchor=\"middle\" x=\"614\" y=\"-380.8\">gini = 0.182</text>\n",
       "<text fill=\"#000000\" font-family=\"Times,serif\" font-size=\"14.00\" text-anchor=\"middle\" x=\"614\" y=\"-365.8\">samples = 122</text>\n",
       "<text fill=\"#000000\" font-family=\"Times,serif\" font-size=\"14.00\" text-anchor=\"middle\" x=\"614\" y=\"-350.8\">value = [0, 0, 0, 0, 0, 0, 0, 0, 0, 0, 0, 0, 0, 0</text>\n",
       "<text fill=\"#000000\" font-family=\"Times,serif\" font-size=\"14.00\" text-anchor=\"middle\" x=\"614\" y=\"-335.8\">110, 0, 0, 5, 0, 0, 0, 0, 7, 0, 0, 0, 0, 0</text>\n",
       "<text fill=\"#000000\" font-family=\"Times,serif\" font-size=\"14.00\" text-anchor=\"middle\" x=\"614\" y=\"-320.8\">0, 0, 0, 0, 0, 0, 0, 0, 0, 0, 0, 0, 0, 0</text>\n",
       "<text fill=\"#000000\" font-family=\"Times,serif\" font-size=\"14.00\" text-anchor=\"middle\" x=\"614\" y=\"-305.8\">0, 0, 0, 0, 0]</text>\n",
       "</g>\n",
       "<!-- 0&#45;&gt;2 -->\n",
       "<g class=\"edge\" id=\"edge6\">\n",
       "<title>0-&gt;2</title>\n",
       "<path d=\"M520.4229,-446.6536C533.7184,-432.4947 547.7062,-417.5986 560.6969,-403.7644\" fill=\"none\" stroke=\"#000000\"/>\n",
       "<polygon fill=\"#000000\" points=\"563.5067,-405.8851 567.8006,-396.1993 558.4038,-401.0933 563.5067,-405.8851\" stroke=\"#000000\"/>\n",
       "<text fill=\"#000000\" font-family=\"Times,serif\" font-size=\"14.00\" text-anchor=\"middle\" x=\"568.5864\" y=\"-417.487\">False</text>\n",
       "</g>\n",
       "<!-- 3 -->\n",
       "<g class=\"node\" id=\"node3\">\n",
       "<title>3</title>\n",
       "<polygon fill=\"none\" points=\"290,-239.5 0,-239.5 0,-141.5 290,-141.5 290,-239.5\" stroke=\"#000000\"/>\n",
       "<text fill=\"#000000\" font-family=\"Times,serif\" font-size=\"14.00\" text-anchor=\"middle\" x=\"145\" y=\"-224.3\">gini = 0.947</text>\n",
       "<text fill=\"#000000\" font-family=\"Times,serif\" font-size=\"14.00\" text-anchor=\"middle\" x=\"145\" y=\"-209.3\">samples = 2779</text>\n",
       "<text fill=\"#000000\" font-family=\"Times,serif\" font-size=\"14.00\" text-anchor=\"middle\" x=\"145\" y=\"-194.3\">value = [0, 13, 0, 43, 15, 55, 0, 37, 57, 239, 17, 5</text>\n",
       "<text fill=\"#000000\" font-family=\"Times,serif\" font-size=\"14.00\" text-anchor=\"middle\" x=\"145\" y=\"-179.3\">79, 0, 277, 112, 4, 195, 162, 6, 0, 103, 128, 0</text>\n",
       "<text fill=\"#000000\" font-family=\"Times,serif\" font-size=\"14.00\" text-anchor=\"middle\" x=\"145\" y=\"-164.3\">9, 21, 23, 11, 62, 0, 0, 168, 46, 0, 0, 28, 49</text>\n",
       "<text fill=\"#000000\" font-family=\"Times,serif\" font-size=\"14.00\" text-anchor=\"middle\" x=\"145\" y=\"-149.3\">153, 4, 0, 55, 26, 100, 51, 234, 112, 80]</text>\n",
       "</g>\n",
       "<!-- 1&#45;&gt;3 -->\n",
       "<g class=\"edge\" id=\"edge2\">\n",
       "<title>1-&gt;3</title>\n",
       "<path d=\"M240.0506,-282.8939C227.8251,-271.0101 215.1364,-258.6761 203.1636,-247.0379\" fill=\"none\" stroke=\"#000000\"/>\n",
       "<polygon fill=\"#000000\" points=\"205.4221,-244.3522 195.8119,-239.8917 200.5429,-249.3716 205.4221,-244.3522\" stroke=\"#000000\"/>\n",
       "</g>\n",
       "<!-- 4 -->\n",
       "<g class=\"node\" id=\"node4\">\n",
       "<title>4</title>\n",
       "<polygon fill=\"none\" points=\"626,-247 308,-247 308,-134 626,-134 626,-247\" stroke=\"#000000\"/>\n",
       "<text fill=\"#000000\" font-family=\"Times,serif\" font-size=\"14.00\" text-anchor=\"middle\" x=\"467\" y=\"-231.8\">Width &lt;= 238.5</text>\n",
       "<text fill=\"#000000\" font-family=\"Times,serif\" font-size=\"14.00\" text-anchor=\"middle\" x=\"467\" y=\"-216.8\">gini = 0.92</text>\n",
       "<text fill=\"#000000\" font-family=\"Times,serif\" font-size=\"14.00\" text-anchor=\"middle\" x=\"467\" y=\"-201.8\">samples = 2175</text>\n",
       "<text fill=\"#000000\" font-family=\"Times,serif\" font-size=\"14.00\" text-anchor=\"middle\" x=\"467\" y=\"-186.8\">value = [10, 20, 43, 44, 118, 3, 18, 34, 143, 387, 13, 1</text>\n",
       "<text fill=\"#000000\" font-family=\"Times,serif\" font-size=\"14.00\" text-anchor=\"middle\" x=\"467\" y=\"-171.8\">181, 1, 216, 256, 44, 0, 26, 79, 44, 16, 0, 5</text>\n",
       "<text fill=\"#000000\" font-family=\"Times,serif\" font-size=\"14.00\" text-anchor=\"middle\" x=\"467\" y=\"-156.8\">26, 31, 20, 0, 0, 12, 13, 0, 18, 6, 7, 0, 2</text>\n",
       "<text fill=\"#000000\" font-family=\"Times,serif\" font-size=\"14.00\" text-anchor=\"middle\" x=\"467\" y=\"-141.8\">141, 47, 10, 4, 0, 5, 0, 91, 17, 23]</text>\n",
       "</g>\n",
       "<!-- 1&#45;&gt;4 -->\n",
       "<g class=\"edge\" id=\"edge3\">\n",
       "<title>1-&gt;4</title>\n",
       "<path d=\"M371.9494,-282.8939C381.6375,-273.4765 391.6165,-263.7765 401.2997,-254.364\" fill=\"none\" stroke=\"#000000\"/>\n",
       "<polygon fill=\"#000000\" points=\"403.906,-256.7116 408.637,-247.2317 399.0268,-251.6922 403.906,-256.7116\" stroke=\"#000000\"/>\n",
       "</g>\n",
       "<!-- 5 -->\n",
       "<g class=\"node\" id=\"node5\">\n",
       "<title>5</title>\n",
       "<polygon fill=\"none\" points=\"468.5,-98 157.5,-98 157.5,0 468.5,0 468.5,-98\" stroke=\"#000000\"/>\n",
       "<text fill=\"#000000\" font-family=\"Times,serif\" font-size=\"14.00\" text-anchor=\"middle\" x=\"313\" y=\"-82.8\">gini = 0.924</text>\n",
       "<text fill=\"#000000\" font-family=\"Times,serif\" font-size=\"14.00\" text-anchor=\"middle\" x=\"313\" y=\"-67.8\">samples = 1967</text>\n",
       "<text fill=\"#000000\" font-family=\"Times,serif\" font-size=\"14.00\" text-anchor=\"middle\" x=\"313\" y=\"-52.8\">value = [10, 20, 43, 43, 92, 3, 18, 34, 143, 343, 13, 1</text>\n",
       "<text fill=\"#000000\" font-family=\"Times,serif\" font-size=\"14.00\" text-anchor=\"middle\" x=\"313\" y=\"-37.8\">181, 1, 216, 134, 44, 0, 26, 79, 39, 16, 0, 5</text>\n",
       "<text fill=\"#000000\" font-family=\"Times,serif\" font-size=\"14.00\" text-anchor=\"middle\" x=\"313\" y=\"-22.8\">21, 31, 20, 0, 0, 12, 13, 0, 15, 6, 5, 0, 2</text>\n",
       "<text fill=\"#000000\" font-family=\"Times,serif\" font-size=\"14.00\" text-anchor=\"middle\" x=\"313\" y=\"-7.8\">141, 47, 10, 4, 0, 5, 0, 91, 17, 23]</text>\n",
       "</g>\n",
       "<!-- 4&#45;&gt;5 -->\n",
       "<g class=\"edge\" id=\"edge4\">\n",
       "<title>4-&gt;5</title>\n",
       "<path d=\"M405.2496,-133.7619C394.8799,-124.2338 384.1258,-114.3526 373.7808,-104.8473\" fill=\"none\" stroke=\"#000000\"/>\n",
       "<polygon fill=\"#000000\" points=\"376.0634,-102.1915 366.3317,-98.0028 371.3273,-107.346 376.0634,-102.1915\" stroke=\"#000000\"/>\n",
       "</g>\n",
       "<!-- 6 -->\n",
       "<g class=\"node\" id=\"node6\">\n",
       "<title>6</title>\n",
       "<polygon fill=\"none\" points=\"755.5,-98 486.5,-98 486.5,0 755.5,0 755.5,-98\" stroke=\"#000000\"/>\n",
       "<text fill=\"#000000\" font-family=\"Times,serif\" font-size=\"14.00\" text-anchor=\"middle\" x=\"621\" y=\"-82.8\">gini = 0.594</text>\n",
       "<text fill=\"#000000\" font-family=\"Times,serif\" font-size=\"14.00\" text-anchor=\"middle\" x=\"621\" y=\"-67.8\">samples = 208</text>\n",
       "<text fill=\"#000000\" font-family=\"Times,serif\" font-size=\"14.00\" text-anchor=\"middle\" x=\"621\" y=\"-52.8\">value = [0, 0, 0, 1, 26, 0, 0, 0, 0, 44, 0, 0, 0, 0</text>\n",
       "<text fill=\"#000000\" font-family=\"Times,serif\" font-size=\"14.00\" text-anchor=\"middle\" x=\"621\" y=\"-37.8\">0, 122, 0, 0, 0, 0, 5, 0, 0, 0, 5, 0, 0, 0</text>\n",
       "<text fill=\"#000000\" font-family=\"Times,serif\" font-size=\"14.00\" text-anchor=\"middle\" x=\"621\" y=\"-22.8\">0, 0, 0, 0, 3, 0, 2, 0, 0, 0, 0, 0, 0, 0</text>\n",
       "<text fill=\"#000000\" font-family=\"Times,serif\" font-size=\"14.00\" text-anchor=\"middle\" x=\"621\" y=\"-7.8\">0, 0, 0, 0, 0]</text>\n",
       "</g>\n",
       "<!-- 4&#45;&gt;6 -->\n",
       "<g class=\"edge\" id=\"edge5\">\n",
       "<title>4-&gt;6</title>\n",
       "<path d=\"M528.7504,-133.7619C539.1201,-124.2338 549.8742,-114.3526 560.2192,-104.8473\" fill=\"none\" stroke=\"#000000\"/>\n",
       "<polygon fill=\"#000000\" points=\"562.6727,-107.346 567.6683,-98.0028 557.9366,-102.1915 562.6727,-107.346\" stroke=\"#000000\"/>\n",
       "</g>\n",
       "</g>\n",
       "</svg>"
      ],
      "text/plain": [
       "<IPython.core.display.SVG object>"
      ]
     },
     "execution_count": 130,
     "metadata": {},
     "output_type": "execute_result"
    }
   ],
   "source": [
    "graph = Source( export_graphviz(model, out_file=None, feature_names=features))\n",
    "SVG(graph.pipe(format='svg'))"
   ]
  },
  {
   "cell_type": "code",
   "execution_count": 132,
   "metadata": {},
   "outputs": [
    {
     "name": "stdout",
     "output_type": "stream",
     "text": [
      "['Chevrolet']\n",
      "['Ford']\n"
     ]
    }
   ],
   "source": [
    "# features = ['City mpg', 'Highway mpg', 'Height', 'Width', 'Length', 'Horsepower', 'Year']\n",
    "\n",
    "prediction_1 = model.predict([[30, 50, 1.5, 2, 6, 500, 2030]])\n",
    "prediction_2 = model.predict([[15, 20, 150, 100, 500, 70, 2010]])\n",
    "\n",
    "print(prediction_1)\n",
    "print(prediction_2)"
   ]
  }
 ],
 "metadata": {
  "kernelspec": {
   "display_name": "Python 3",
   "language": "python",
   "name": "python3"
  },
  "language_info": {
   "codemirror_mode": {
    "name": "ipython",
    "version": 3
   },
   "file_extension": ".py",
   "mimetype": "text/x-python",
   "name": "python",
   "nbconvert_exporter": "python",
   "pygments_lexer": "ipython3",
   "version": "3.7.1"
  }
 },
 "nbformat": 4,
 "nbformat_minor": 2
}
